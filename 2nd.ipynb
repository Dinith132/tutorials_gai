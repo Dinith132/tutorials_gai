{
 "cells": [
  {
   "cell_type": "code",
   "execution_count": 1,
   "id": "463be582",
   "metadata": {},
   "outputs": [
    {
     "name": "stderr",
     "output_type": "stream",
     "text": [
      "WARNING: Ignoring invalid distribution ~illow (C:\\Users\\dinit\\.pyenv\\pyenv-win\\versions\\3.11.5\\Lib\\site-packages)\n",
      "WARNING: Ignoring invalid distribution ~illow (C:\\Users\\dinit\\.pyenv\\pyenv-win\\versions\\3.11.5\\Lib\\site-packages)\n",
      "WARNING: Ignoring invalid distribution ~illow (C:\\Users\\dinit\\.pyenv\\pyenv-win\\versions\\3.11.5\\Lib\\site-packages)\n"
     ]
    }
   ],
   "source": [
    "!pip install langchain -qU"
   ]
  },
  {
   "cell_type": "code",
   "execution_count": 2,
   "id": "ed9d15e2",
   "metadata": {},
   "outputs": [
    {
     "name": "stderr",
     "output_type": "stream",
     "text": [
      "WARNING: Ignoring invalid distribution ~illow (C:\\Users\\dinit\\.pyenv\\pyenv-win\\versions\\3.11.5\\Lib\\site-packages)\n",
      "WARNING: Ignoring invalid distribution ~illow (C:\\Users\\dinit\\.pyenv\\pyenv-win\\versions\\3.11.5\\Lib\\site-packages)\n",
      "WARNING: Ignoring invalid distribution ~illow (C:\\Users\\dinit\\.pyenv\\pyenv-win\\versions\\3.11.5\\Lib\\site-packages)\n"
     ]
    }
   ],
   "source": [
    "!pip install langchain-community -qU"
   ]
  },
  {
   "cell_type": "code",
   "execution_count": 3,
   "id": "9a00d16c",
   "metadata": {},
   "outputs": [],
   "source": [
    "from langchain_community.document_loaders import TextLoader"
   ]
  },
  {
   "cell_type": "code",
   "execution_count": 4,
   "id": "f63ce7e5",
   "metadata": {},
   "outputs": [],
   "source": [
    "loder = TextLoader(\"D:\\\\Next\\\\gai\\\\tutorials\\\\generative_ai_tutorial\\\\03.data_loaders\\\\data\\\\example_txt_file.txt\")"
   ]
  },
  {
   "cell_type": "code",
   "execution_count": 5,
   "id": "85282287",
   "metadata": {},
   "outputs": [],
   "source": [
    "txt_data= loder.load()"
   ]
  },
  {
   "cell_type": "code",
   "execution_count": 6,
   "id": "8eef852c",
   "metadata": {},
   "outputs": [
    {
     "data": {
      "text/plain": [
       "[Document(metadata={'source': 'D:\\\\Next\\\\gai\\\\tutorials\\\\generative_ai_tutorial\\\\03.data_loaders\\\\data\\\\example_txt_file.txt'}, page_content=\"Sri Lanka's national cricket team achieved a historic milestone by winning the ICC Cricket World Cup in 1996. \\nThe team is known for producing cricket legends like Muttiah Muralitharan, the highest wicket-taker in Test cricket history. \\nKumar Sangakkara and Mahela Jayawardene are celebrated for their prolific batting partnerships. \\nSanath Jayasuriya revolutionized one-day cricket with his explosive batting style. \\nThe Galle International Stadium, with its stunning backdrop of the Galle Fort, is one of the world's most picturesque cricket venues. \\nSri Lanka won the ICC T20 World Cup in 2014, demonstrating their prowess in the shortest format of the game. \\nLasith Malinga, famous for his unique bowling action and lethal yorkers, has been a key player in their T20 success. \\nCricket is deeply embedded in Sri Lankan culture, uniting people from all walks of life during major tournaments.\")]"
      ]
     },
     "execution_count": 6,
     "metadata": {},
     "output_type": "execute_result"
    }
   ],
   "source": [
    "txt_data"
   ]
  },
  {
   "cell_type": "markdown",
   "id": "1382b97d",
   "metadata": {},
   "source": [
    "loding txt files from a dir"
   ]
  },
  {
   "cell_type": "code",
   "execution_count": 7,
   "id": "1abf148c",
   "metadata": {},
   "outputs": [],
   "source": [
    "from langchain_community.document_loaders import DirectoryLoader"
   ]
  },
  {
   "cell_type": "code",
   "execution_count": 8,
   "id": "4164161d",
   "metadata": {},
   "outputs": [],
   "source": [
    "loder =DirectoryLoader(\"D:\\\\Next\\\\gai\\\\tutorials\\\\generative_ai_tutorial\\\\03.data_loaders\\\\data\\\\txt_folder\", glob=\"**/*.txt\")"
   ]
  },
  {
   "cell_type": "code",
   "execution_count": 9,
   "id": "8ef5fdf9",
   "metadata": {},
   "outputs": [
    {
     "name": "stderr",
     "output_type": "stream",
     "text": [
      "libmagic is unavailable but assists in filetype detection. Please consider installing libmagic for better results.\n",
      "libmagic is unavailable but assists in filetype detection. Please consider installing libmagic for better results.\n",
      "libmagic is unavailable but assists in filetype detection. Please consider installing libmagic for better results.\n",
      "libmagic is unavailable but assists in filetype detection. Please consider installing libmagic for better results.\n"
     ]
    }
   ],
   "source": [
    "dataset= loder.load()"
   ]
  },
  {
   "cell_type": "code",
   "execution_count": 13,
   "id": "e90f9e5e",
   "metadata": {},
   "outputs": [
    {
     "data": {
      "text/plain": [
       "[Document(metadata={'source': 'D:\\\\Next\\\\gai\\\\tutorials\\\\generative_ai_tutorial\\\\03.data_loaders\\\\data\\\\txt_folder\\\\ai_news.txt'}, page_content='The AI revolution continues to transform industries and reshape the global economy.\\n\\nSignificant advancements in artificial intelligence have led to breakthroughs in healthcare, with AI-driven diagnostics improving patient outcomes and reducing costs.\\n\\nAutonomous systems are becoming increasingly prevalent in logistics and transportation, enhancing efficiency and safety.'),\n",
       " Document(metadata={'source': 'D:\\\\Next\\\\gai\\\\tutorials\\\\generative_ai_tutorial\\\\03.data_loaders\\\\data\\\\txt_folder\\\\cricket_news.txt'}, page_content=\"The T20 World Cup 2024 is in full swing, bringing excitement and drama to cricket fans worldwide.\\n\\nIndia's team, captained by Rohit Sharma, is preparing for a crucial match against Ireland, with standout player Jasprit Bumrah expected to play a pivotal role in their campaign.\\n\\nThe tournament has already seen controversy, particularly concerning the pitch conditions at Nassau County International Cricket Stadium in New York, which came under fire after a low-scoring game between Sri Lanka and South Africa.\"),\n",
       " Document(metadata={'source': 'D:\\\\Next\\\\gai\\\\tutorials\\\\generative_ai_tutorial\\\\03.data_loaders\\\\data\\\\txt_folder\\\\election_news.txt'}, page_content='As election season heats up, the latest developments reveal a highly competitive atmosphere across several key races.\\n\\nThe presidential election has seen intense campaigning from all major candidates, with recent polls indicating a tight race.\\n\\nIncumbent President Jane Doe is seeking re-election on a platform of economic stability and healthcare reform, while her main rival, Senator John Smith, focuses on education and climate change initiatives.'),\n",
       " Document(metadata={'source': 'D:\\\\Next\\\\gai\\\\tutorials\\\\generative_ai_tutorial\\\\03.data_loaders\\\\data\\\\txt_folder\\\\football_news.txt'}, page_content='The world of football is buzzing with excitement as major tournaments and league matches continue to captivate fans globally.\\n\\nIn the UEFA Champions League, the semi-final matchups have been set, with defending champions Real Madrid set to face Manchester City, while Bayern Munich will take on Paris Saint-Germain.\\n\\nBoth ties promise thrilling encounters, featuring some of the best talents in world football')]"
      ]
     },
     "execution_count": 13,
     "metadata": {},
     "output_type": "execute_result"
    }
   ],
   "source": [
    "dataset"
   ]
  },
  {
   "cell_type": "markdown",
   "id": "75484f19",
   "metadata": {},
   "source": [
    "pdf"
   ]
  },
  {
   "cell_type": "code",
   "execution_count": 15,
   "id": "a5095861",
   "metadata": {},
   "outputs": [],
   "source": [
    "!pip install pypdf -qU"
   ]
  },
  {
   "cell_type": "code",
   "execution_count": 16,
   "id": "a0316e87",
   "metadata": {},
   "outputs": [],
   "source": [
    "from langchain_community.document_loaders import PyPDFLoader\n"
   ]
  },
  {
   "cell_type": "code",
   "execution_count": 17,
   "id": "3b7801cf",
   "metadata": {},
   "outputs": [],
   "source": [
    "loder = PyPDFLoader(\"D:\\\\Next\\\\gai\\\\tutorials\\\\generative_ai_tutorial\\\\03.data_loaders\\\\data\\\\example_pdf_file.pdf\")"
   ]
  },
  {
   "cell_type": "code",
   "execution_count": 19,
   "id": "40739c1f",
   "metadata": {},
   "outputs": [
    {
     "data": {
      "text/plain": [
       "[Document(metadata={'producer': 'Microsoft® Word for Microsoft 365', 'creator': 'Microsoft® Word for Microsoft 365', 'creationdate': '2024-06-17T22:17:35+05:30', 'author': 'Dinesh Piyasamara', 'moddate': '2024-06-17T22:17:35+05:30', 'source': 'D:\\\\Next\\\\gai\\\\tutorials\\\\generative_ai_tutorial\\\\03.data_loaders\\\\data\\\\example_pdf_file.pdf', 'total_pages': 1, 'page': 0, 'page_label': '1'}, page_content=\"Sri Lanka's national cricket team achieved a historic milestone by winning the ICC Cricket World \\nCup in 1996.  \\nThe team is known for producing cricket legends like Muttiah Muralitharan, the highest wicket-taker \\nin Test cricket history.  \\nKumar Sangakkara and Mahela Jayawardene are celebrated for their prolific batting partnerships.  \\nSanath Jayasuriya revolutionized one-day cricket with his explosive batting style.  \\nThe Galle International Stadium, with its stunning backdrop of the Galle Fort, is one of the world's \\nmost picturesque cricket venues.  \\nSri Lanka won the ICC T20 World Cup in 2014, demonstrating their prowess in the shortest format of \\nthe game.  \\nLasith Malinga, famous for his unique bowling action and lethal yorkers, has been a key player in \\ntheir T20 success.  \\nCricket is deeply embedded in Sri Lankan culture, uniting people from all walks of life during major \\ntournaments.\")]"
      ]
     },
     "execution_count": 19,
     "metadata": {},
     "output_type": "execute_result"
    }
   ],
   "source": [
    "loder.load()"
   ]
  },
  {
   "cell_type": "code",
   "execution_count": 20,
   "id": "ffaec626",
   "metadata": {},
   "outputs": [],
   "source": [
    "from langchain_community.document_loaders import PyPDFDirectoryLoader"
   ]
  },
  {
   "cell_type": "code",
   "execution_count": 29,
   "id": "bc9538bb",
   "metadata": {},
   "outputs": [],
   "source": [
    "loader= PyPDFDirectoryLoader(\"D:\\\\Next\\\\gai\\\\tutorials\\\\generative_ai_tutorial\\\\03.data_loaders\\\\data\\\\pdf_folder\")"
   ]
  },
  {
   "cell_type": "code",
   "execution_count": 32,
   "id": "97d128eb",
   "metadata": {},
   "outputs": [],
   "source": [
    "dataset = loader.load()"
   ]
  },
  {
   "cell_type": "code",
   "execution_count": 33,
   "id": "654451a5",
   "metadata": {},
   "outputs": [
    {
     "name": "stdout",
     "output_type": "stream",
     "text": [
      "{'producer': 'Microsoft® Word for Microsoft 365', 'creator': 'Microsoft® Word for Microsoft 365', 'creationdate': '2024-06-17T22:35:41+05:30', 'author': 'Dinesh Piyasamara', 'moddate': '2024-06-17T22:35:41+05:30', 'source': 'D:\\\\Next\\\\gai\\\\tutorials\\\\generative_ai_tutorial\\\\03.data_loaders\\\\data\\\\pdf_folder\\\\ai_news.pdf', 'total_pages': 1, 'page': 0, 'page_label': '1'}\n",
      "The AI revolution continues to transform industries and reshape the global economy. \n",
      "Significant advancements in artificial intelligence have led to breakthroughs in healthcare, with AI-\n",
      "driven diagnostics improving patient outcomes and reducing costs. \n",
      "Autonomous systems are becoming increasingly prevalent in logistics and transportation, \n",
      "enhancing efficiency and safety.\n",
      "===-------------------------------\n",
      "{'producer': 'Microsoft® Word for Microsoft 365', 'creator': 'Microsoft® Word for Microsoft 365', 'creationdate': '2024-06-17T22:36:30+05:30', 'author': 'Dinesh Piyasamara', 'moddate': '2024-06-17T22:36:30+05:30', 'source': 'D:\\\\Next\\\\gai\\\\tutorials\\\\generative_ai_tutorial\\\\03.data_loaders\\\\data\\\\pdf_folder\\\\cricket_news.pdf', 'total_pages': 1, 'page': 0, 'page_label': '1'}\n",
      "The T20 World Cup 2024 is in full swing, bringing excitement and drama to cricket fans worldwide. \n",
      "India's team, captained by Rohit Sharma, is preparing for a crucial match against Ireland, with \n",
      "standout player Jasprit Bumrah expected to play a pivotal role in their campaign. \n",
      "The tournament has already seen controversy, particularly concerning the pitch conditions at \n",
      "Nassau County International Cricket Stadium in New York, which came under fire after a low-\n",
      "scoring game between Sri Lanka and South Africa.\n",
      "===-------------------------------\n",
      "{'producer': 'Microsoft® Word for Microsoft 365', 'creator': 'Microsoft® Word for Microsoft 365', 'creationdate': '2024-06-17T22:37:07+05:30', 'author': 'Dinesh Piyasamara', 'moddate': '2024-06-17T22:37:07+05:30', 'source': 'D:\\\\Next\\\\gai\\\\tutorials\\\\generative_ai_tutorial\\\\03.data_loaders\\\\data\\\\pdf_folder\\\\election_news.pdf', 'total_pages': 1, 'page': 0, 'page_label': '1'}\n",
      "As election season heats up, the latest developments reveal a highly competitive atmosphere \n",
      "across several key races. \n",
      "The presidential election has seen intense campaigning from all major candidates, with recent \n",
      "polls indicating a tight race. \n",
      "Incumbent President Jane Doe is seeking re-election on a platform of economic stability and \n",
      "healthcare reform, while her main rival, Senator John Smith, focuses on education and climate \n",
      "change initiatives.\n",
      "===-------------------------------\n",
      "{'producer': 'Microsoft® Word for Microsoft 365', 'creator': 'Microsoft® Word for Microsoft 365', 'creationdate': '2024-06-17T22:37:50+05:30', 'author': 'Dinesh Piyasamara', 'moddate': '2024-06-17T22:37:50+05:30', 'source': 'D:\\\\Next\\\\gai\\\\tutorials\\\\generative_ai_tutorial\\\\03.data_loaders\\\\data\\\\pdf_folder\\\\football_news.pdf', 'total_pages': 1, 'page': 0, 'page_label': '1'}\n",
      "The world of football is buzzing with excitement as major tournaments and league matches \n",
      "continue to captivate fans globally. \n",
      "In the UEFA Champions League, the semi-final matchups have been set, with defending champions \n",
      "Real Madrid set to face Manchester City, while Bayern Munich will take on Paris Saint-Germain. \n",
      "Both ties promise thrilling encounters, featuring some of the best talents in world football\n",
      "===-------------------------------\n"
     ]
    }
   ],
   "source": [
    "for d in dataset:\n",
    "    print(d.metadata)\n",
    "    print(d.page_content)\n",
    "    print(\"===-------------------------------\")\n",
    "    "
   ]
  },
  {
   "cell_type": "code",
   "execution_count": null,
   "id": "c365fa6e",
   "metadata": {},
   "outputs": [],
   "source": []
  },
  {
   "cell_type": "code",
   "execution_count": null,
   "id": "31218983",
   "metadata": {},
   "outputs": [],
   "source": []
  },
  {
   "cell_type": "code",
   "execution_count": null,
   "id": "4acb61d7",
   "metadata": {},
   "outputs": [],
   "source": []
  }
 ],
 "metadata": {
  "kernelspec": {
   "display_name": "Python 3",
   "language": "python",
   "name": "python3"
  },
  "language_info": {
   "codemirror_mode": {
    "name": "ipython",
    "version": 3
   },
   "file_extension": ".py",
   "mimetype": "text/x-python",
   "name": "python",
   "nbconvert_exporter": "python",
   "pygments_lexer": "ipython3",
   "version": "3.11.5"
  }
 },
 "nbformat": 4,
 "nbformat_minor": 5
}
